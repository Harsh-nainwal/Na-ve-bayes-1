{
 "cells": [
  {
   "cell_type": "markdown",
   "id": "1738a1eb-0c1d-4f30-bde9-57797c2c1643",
   "metadata": {},
   "source": [
    "Q1. What is Bayes' theorem?\n",
    "\n",
    "Ans:-\n",
    "Bayes' theorem is a fundamental concept in probability theory named after Reverend Thomas Bayes. It describes how to update the probability of a hypothesis based on new evidence or information."
   ]
  },
  {
   "cell_type": "markdown",
   "id": "9e7465f6-9295-4de4-9a17-89633812fedc",
   "metadata": {},
   "source": [
    "Q2. What is the formula for Bayes' theorem?\n",
    "\n",
    "Ans:-\n",
    "Bayes' theorem can be expressed mathematically as:\n",
    "\n",
    "P(A∣B)=(B∣A)×P(A)/P(B)\n",
    "Where:\n",
    "\n",
    "P(A∣B) is the probability of event A given that event B has occurred.\n",
    "P(B∣A) is the probability of event B given that event A has occurred.\n",
    "\n",
    "P(A) and P(B) are the probabilities of events A and B occurring independently."
   ]
  },
  {
   "cell_type": "markdown",
   "id": "358d0ae7-dc5f-42ab-b7ee-6b60a8722ecb",
   "metadata": {},
   "source": [
    "Q3. How is Bayes' theorem used in practice?\n",
    "\n",
    "Ans:-\n",
    "Bayes' theorem is widely used in various fields, including statistics, machine learning, and artificial intelligence. In practice, it is used for tasks such as spam filtering, medical diagnosis, document classification, and predictive modeling.\n",
    "\n",
    "Q4. What is the relationship between Bayes' theorem and conditional probability?\n",
    "\n",
    "Ans:-\n",
    "\n",
    "Bayes' theorem is based on conditional probability. It provides a formal way to update our beliefs about the likelihood of different events occurring based on new evidence or information. Conditional probability is the probability of an event occurring given that another event has already occurred."
   ]
  },
  {
   "cell_type": "markdown",
   "id": "fe3d7e23-845d-49f6-ad61-43fe383253c8",
   "metadata": {},
   "source": [
    "Q5. How do you choose which type of Naive Bayes classifier to use for any given problem?\n",
    "\n",
    "Ans:-\n",
    "The choice of which type of Naive Bayes classifier to use depends on the characteristics of the problem and the assumptions about the independence of features. The three main types of Naive Bayes classifiers are:\n",
    "\n",
    "Gaussian Naive Bayes: Suitable for continuous numerical features that are assumed to follow a Gaussian distribution.\n",
    "Multinomial Naive Bayes: Typically used for text classification tasks where features represent the frequencies of words or other discrete features.\n",
    "Bernoulli Naive Bayes: Suitable for binary features where each feature represents the presence or absence of a particular characteristic."
   ]
  },
  {
   "cell_type": "code",
   "execution_count": null,
   "id": "742f269e-c03a-4118-a420-62736eb003a4",
   "metadata": {},
   "outputs": [],
   "source": [
    "the predicted class for the new instance with features \n",
    "�\n",
    "1\n",
    "=\n",
    "3\n",
    "X \n",
    "1\n",
    "​\n",
    " =3 and \n",
    "�\n",
    "2\n",
    "=\n",
    "4\n",
    "X \n",
    "2\n",
    "​\n",
    " =4 would be class A"
   ]
  }
 ],
 "metadata": {
  "kernelspec": {
   "display_name": "Python 3 (ipykernel)",
   "language": "python",
   "name": "python3"
  },
  "language_info": {
   "codemirror_mode": {
    "name": "ipython",
    "version": 3
   },
   "file_extension": ".py",
   "mimetype": "text/x-python",
   "name": "python",
   "nbconvert_exporter": "python",
   "pygments_lexer": "ipython3",
   "version": "3.10.8"
  }
 },
 "nbformat": 4,
 "nbformat_minor": 5
}
